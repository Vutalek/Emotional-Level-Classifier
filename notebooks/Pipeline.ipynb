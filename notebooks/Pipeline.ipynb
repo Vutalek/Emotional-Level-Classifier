{
 "cells": [
  {
   "cell_type": "markdown",
   "id": "331315f7-d50f-4468-99a2-966f16582b79",
   "metadata": {},
   "source": [
    "# Building pipeline"
   ]
  },
  {
   "cell_type": "code",
   "execution_count": null,
   "id": "89a367d8-532a-478f-a739-f0a486741517",
   "metadata": {},
   "outputs": [],
   "source": [
    "import numpy as np\n",
    "import pandas as pd\n",
    "\n",
    "dataset = pd.read_csv(\"../api/data/emotional_monitoring_dataset_with_target.csv\")\n",
    "dataset[\"EngagementLevel\"]= dataset[\"EngagementLevel\"].map({1: \"Disengaged\", 2: \"Moderately Engaged\", 3: \"Highly Engaged\"})"
   ]
  },
  {
   "cell_type": "markdown",
   "id": "057313a4-b9ea-4e40-823e-e99daab808da",
   "metadata": {},
   "source": [
    "## PreProcessor\n",
    "\n",
    "It will process NA values if that will happen."
   ]
  },
  {
   "cell_type": "code",
   "execution_count": null,
   "id": "dc0dcc7d-fa65-49db-9e01-f1269a962401",
   "metadata": {},
   "outputs": [],
   "source": [
    "from sklearn.base import BaseEstimator, TransformerMixin\n",
    "\n",
    "class PreProcessor(BaseEstimator, TransformerMixin):\n",
    "    def __init__(self):\n",
    "        pass\n",
    "\n",
    "    def fit(self, X, y = None, **fit_params):\n",
    "        self.mean_heart_rate = X[\"HeartRate\"].mean()\n",
    "        self.mean_skin_conductance = X[\"SkinConductance\"].mean()\n",
    "        self.mean_eeg = X[\"EEG\"].mean()\n",
    "        self.mean_temperature = X[\"Temperature\"].mean()\n",
    "        self.mean_pupil_diameter = X[\"PupilDiameter\"].mean()\n",
    "        self.mean_smile_intensity = X[\"SmileIntensity\"].mean()\n",
    "        self.mean_frown_intensity = X[\"FrownIntensity\"].mean()\n",
    "        self.mean_cortisol_level = X[\"CortisolLevel\"].mean()\n",
    "        self.mean_activity_level = X[\"ActivityLevel\"].mean()\n",
    "        self.mean_noise_level = X[\"AmbientNoiseLevel\"].mean()\n",
    "        self.mean_light_level = X[\"LightingLevel\"].mean()\n",
    "        return self\n",
    "\n",
    "    def transform(self, X):\n",
    "        with option_context(\"future.no_silent_downcasting\", True):\n",
    "            X[\"HeartRate\"] = X[\"HeartRate\"].fillna(self.mean_heart_rate).infer_objects(copy = False)\n",
    "            X[\"SkinConductance\"] = X[\"SkinConductance\"].fillna(self.mean_skin_conductance).infer_objects(copy = False)\n",
    "            X[\"EEG\"] = X[\"EEG\"].fillna(self.mean_eeg).infer_objects(copy = False)\n",
    "            X[\"Temperature\"] = X[\"Temperature\"].fillna(self.mean_temperature).infer_objects(copy = False)\n",
    "            X[\"PupilDiameter\"] = X[\"PupilDiameter\"].fillna(self.mean_pupil_diameter).infer_objects(copy = False)\n",
    "            X[\"SmileIntensity\"] = X[\"SmileIntensity\"].fillna(self.mean_smile_intensity).infer_objects(copy = False)\n",
    "            X[\"FrownIntensity\"] = X[\"FrownIntensity\"].fillna(self.mean_frown_intensity).infer_objects(copy = False)\n",
    "            X[\"CortisolLevel\"] = X[\"CortisolLevel\"].fillna(self.mean_cortisol_level).infer_objects(copy = False)\n",
    "            X[\"ActivityLevel\"] = X[\"ActivityLevel\"].fillna(self.mean_activity_level).infer_objects(copy = False)\n",
    "            X[\"AmbientNoiseLevel\"] = X[\"AmbientNoiseLevel\"].fillna(self.mean_noise_level).infer_objects(copy = False)\n",
    "            X[\"LightingLevel\"] = X[\"LightingLevel\"].fillna(self.mean_light_level).infer_objects(copy = False)\n",
    "        return X"
   ]
  },
  {
   "cell_type": "markdown",
   "id": "064ff69d-4f92-48f5-a10f-c29ea6bb94b7",
   "metadata": {},
   "source": [
    "## Feature Selection\n",
    "\n",
    "We will use Beam Search algorithm for feature selection.\n",
    "\n",
    "Inside we will use RandomForest for optimization.\n",
    "\n",
    "As the criterion of sorting we will use K-fold Cross Validation score."
   ]
  },
  {
   "cell_type": "code",
   "execution_count": null,
   "id": "b41d489f-4791-4de8-a1bd-11d03810e4a1",
   "metadata": {},
   "outputs": [],
   "source": [
    "from sklearn.ensemble import GradientBoostingClassifier\n",
    "from sklearn.model_selection import cross_val_score\n",
    "\n",
    "class BeamSearch(BaseEstimator, TransformerMixin):\n",
    "    def __init__(self, beam = 5, folds = 5, gb_estimators = 25, stop_criterion = 2):\n",
    "        self.beam = beam\n",
    "        self.folds = folds\n",
    "        self.gb_estimators = gb_estimators\n",
    "        self.stop_criterion = stop_criterion\n",
    "\n",
    "    def fit(self, X, y):\n",
    "        n_features = len(X.columns)\n",
    "        R = [[i] for i in range(n_features)]\n",
    "        best_score = 0\n",
    "        best_features = []\n",
    "        best_dim = 0\n",
    "        for j in range(n_features):\n",
    "            cv_score = [self.evaluate_score(X, y, J) for J in R]\n",
    "            sorted_cv_score, sorted_R = zip(*[(b, a) for b, a in sorted(zip(cv_score, R), reverse = True)])\n",
    "            R = list(sorted_R[0:self.beam])\n",
    "            if sorted_cv_score[0] > best_score:\n",
    "                best_score = sorted_cv_score[0]\n",
    "                best_features = R[0]\n",
    "                best_dim = j\n",
    "            if j - best_dim >= self.stop_criterion:\n",
    "                self.best_score = best_score\n",
    "                self.best_features = best_features\n",
    "                return self\n",
    "            for i in range(len(R)):\n",
    "                J = R.pop(0)\n",
    "                for f in list(set(range(n_features)) - set(J)):\n",
    "                    R.append([*J, f])\n",
    "        self.best_score = best_score\n",
    "        self.best_features = best_features\n",
    "        return self\n",
    "\n",
    "    def evaluate_score(self, X, y, J):\n",
    "        cols = X.columns.values.tolist()\n",
    "        subcols = [cols[i] for i in J]\n",
    "        X_sub = X[subcols]\n",
    "        gb = GradientBoostingClassifier(n_estimators = self.gb_estimators)\n",
    "        return sum(cross_val_score(gb, X_sub, y, cv = self.folds, scoring = \"f1_macro\"))\n",
    "\n",
    "    def transform(self, X):\n",
    "        cols = X.columns.values.tolist()\n",
    "        subcols = [cols[i] for i in self.best_features]\n",
    "        X_sub = X[subcols]\n",
    "        return X_sub"
   ]
  },
  {
   "cell_type": "markdown",
   "id": "42da6483-6a81-4cb4-90da-022a9bfac4f7",
   "metadata": {},
   "source": [
    "## Making Pipeline"
   ]
  },
  {
   "cell_type": "code",
   "execution_count": null,
   "id": "2f362450-490b-4da6-80f9-5e65eef93b88",
   "metadata": {},
   "outputs": [],
   "source": [
    "from sklearn.pipeline import make_pipeline\n",
    "from sklearn.metrics import f1_score\n",
    "from sklearn.model_selection import train_test_split\n",
    "\n",
    "pipe = make_pipeline(\n",
    "    PreProcessor(),\n",
    "    BeamSearch(),\n",
    "    GradientBoostingClassifier()\n",
    ")\n",
    "pipe"
   ]
  },
  {
   "cell_type": "code",
   "execution_count": null,
   "id": "3771981f-2103-46d5-8b53-8edfa205246a",
   "metadata": {},
   "outputs": [],
   "source": [
    "X = dataset.drop([\"EmotionalState\", \"CognitiveState\", \"EngagementLevel\"], axis = 1)\n",
    "y = dataset[\"EngagementLevel\"]\n",
    "\n",
    "X_train, X_test, y_train, y_test = train_test_split(X, y, random_state = 777)"
   ]
  },
  {
   "cell_type": "code",
   "execution_count": null,
   "id": "2c2d23b1-b5c5-4e3f-ac44-5caf338b600d",
   "metadata": {},
   "outputs": [],
   "source": [
    "from sklearn.model_selection import GridSearchCV\n",
    "\n",
    "#boosting_params = {\n",
    "#        \"gradientboostingclassifier__n_estimators\": [20, 25, 30],\n",
    "#        \"beamsearch__beam\": [4, 5, 6],\n",
    "#        \"beamsearch__gb_estimators\": [20, 25, 30]\n",
    "#    }\n",
    "\n",
    "boosting_params = {\n",
    "        \"gradientboostingclassifier__n_estimators\": [20],\n",
    "        \"beamsearch__beam\": [2],\n",
    "        \"beamsearch__gb_estimators\": [20]\n",
    "    }\n",
    "\n",
    "grid = GridSearchCV(pipe, param_grid = boosting_params, scoring = \"f1_macro\")\n",
    "grid.fit(X_train, y_train)"
   ]
  },
  {
   "cell_type": "code",
   "execution_count": null,
   "id": "ae8236ca-189f-4aa1-b73d-e90b4ddd7fc4",
   "metadata": {},
   "outputs": [],
   "source": [
    "f1_score(y_test, grid.predict(X_test), average = \"macro\")"
   ]
  },
  {
   "cell_type": "code",
   "execution_count": null,
   "id": "3c82fc5d-30ac-488a-8534-85954475f286",
   "metadata": {},
   "outputs": [],
   "source": [
    "grid.best_params_"
   ]
  },
  {
   "cell_type": "code",
   "execution_count": null,
   "id": "2225f73e-d896-4335-9809-b0b77d18ee88",
   "metadata": {},
   "outputs": [],
   "source": [
    "grid.best_score_"
   ]
  },
  {
   "cell_type": "code",
   "execution_count": null,
   "id": "d3db9e13-eb6e-4b73-a66f-852a2948ab34",
   "metadata": {},
   "outputs": [],
   "source": [
    "features_indexes = grid.best_estimator_[\"beamsearch\"].best_features\n",
    "cols = X.columns.values.tolist()\n",
    "for i in features_indexes:\n",
    "    print(cols[i])"
   ]
  },
  {
   "cell_type": "code",
   "execution_count": null,
   "id": "30cf0631-2630-43b3-947b-c57fddea9334",
   "metadata": {},
   "outputs": [],
   "source": []
  }
 ],
 "metadata": {
  "kernelspec": {
   "display_name": "Python 3 (ipykernel)",
   "language": "python",
   "name": "python3"
  },
  "language_info": {
   "codemirror_mode": {
    "name": "ipython",
    "version": 3
   },
   "file_extension": ".py",
   "mimetype": "text/x-python",
   "name": "python",
   "nbconvert_exporter": "python",
   "pygments_lexer": "ipython3",
   "version": "3.12.4"
  }
 },
 "nbformat": 4,
 "nbformat_minor": 5
}
