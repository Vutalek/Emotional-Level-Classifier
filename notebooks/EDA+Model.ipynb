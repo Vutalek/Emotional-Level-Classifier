{
 "cells": [
  {
   "cell_type": "markdown",
   "id": "c95eecdb-71af-40dc-845a-6f46977e06a2",
   "metadata": {},
   "source": [
    "# Analysing and modeling"
   ]
  },
  {
   "cell_type": "code",
   "execution_count": null,
   "id": "f3660d7e-3b2d-4cf9-b7fb-6555c3a0a1b9",
   "metadata": {},
   "outputs": [],
   "source": [
    "import numpy as np\n",
    "import pandas as pd\n",
    "import seaborn as sns\n",
    "import matplotlib.pyplot as plt\n",
    "\n",
    "dataset = pd.read_csv(\"../api/data/emotional_monitoring_dataset_with_target.csv\")\n",
    "dataset[\"EngagementLevel\"]= dataset[\"EngagementLevel\"].map({1: \"Disengaged\", 2: \"Moderately Engaged\", 3: \"Highly Engaged\"})\n",
    "dataset.head()"
   ]
  },
  {
   "cell_type": "code",
   "execution_count": null,
   "id": "0da538a7-67d9-4ebf-911f-8a1c419d7cae",
   "metadata": {},
   "outputs": [],
   "source": [
    "dataset.info()"
   ]
  },
  {
   "cell_type": "code",
   "execution_count": null,
   "id": "d59ead77-4d2b-4147-8172-d7c8d53a41ed",
   "metadata": {},
   "outputs": [],
   "source": [
    "dataset.isnull().sum()"
   ]
  },
  {
   "cell_type": "markdown",
   "id": "c3a8601b-cc69-4d25-a1af-019b086caa25",
   "metadata": {
    "jp-MarkdownHeadingCollapsed": true
   },
   "source": [
    "# EDA"
   ]
  },
  {
   "cell_type": "code",
   "execution_count": null,
   "id": "42f92696-8603-4179-b482-14934b7cf9cd",
   "metadata": {},
   "outputs": [],
   "source": [
    "dataset.describe()"
   ]
  },
  {
   "cell_type": "code",
   "execution_count": null,
   "id": "75fbc11d-8de0-4881-88c3-dff5d1abddcc",
   "metadata": {},
   "outputs": [],
   "source": [
    "sns.pairplot(dataset)"
   ]
  },
  {
   "cell_type": "markdown",
   "id": "65dc55f4-ba90-4f9e-b869-0df53e6ccf49",
   "metadata": {
    "jp-MarkdownHeadingCollapsed": true
   },
   "source": [
    "## Engagement Level"
   ]
  },
  {
   "cell_type": "code",
   "execution_count": null,
   "id": "2d96f69c-5b2d-4848-a4ae-7b4e86aa9283",
   "metadata": {},
   "outputs": [],
   "source": [
    "sns.countplot(dataset, x = \"EngagementLevel\")\n",
    "plt.title(\"Count of levels of categotical variable\")"
   ]
  },
  {
   "cell_type": "code",
   "execution_count": null,
   "id": "a8d8303b-7832-4c32-82bc-cbc290f962f5",
   "metadata": {},
   "outputs": [],
   "source": [
    "pd.crosstab(index = dataset[\"EngagementLevel\"], columns = \"count\")"
   ]
  },
  {
   "cell_type": "code",
   "execution_count": null,
   "id": "903c280c-c1ef-4119-b96b-ce0d8fb00387",
   "metadata": {},
   "outputs": [],
   "source": [
    "fig, axs = plt.subplots(4, 3, figsize  = (20, 24))\n",
    "\n",
    "sns.boxplot(x=\"EngagementLevel\", y=\"HeartRate\", data=dataset, ax=axs[0, 0])\n",
    "\n",
    "sns.boxplot(x=\"EngagementLevel\", y=\"SkinConductance\", data=dataset, ax=axs[0, 1])\n",
    "\n",
    "sns.boxplot(x=\"EngagementLevel\", y=\"EEG\", data=dataset, ax=axs[0, 2])\n",
    "\n",
    "sns.boxplot(x=\"EngagementLevel\", y=\"Temperature\", data=dataset, ax=axs[1, 0])\n",
    "\n",
    "sns.boxplot(x=\"EngagementLevel\", y=\"PupilDiameter\", data=dataset, ax=axs[1, 1])\n",
    "\n",
    "sns.boxplot(x=\"EngagementLevel\", y=\"SmileIntensity\", data=dataset, ax=axs[1, 2])\n",
    "\n",
    "sns.boxplot(x=\"EngagementLevel\", y=\"FrownIntensity\", data=dataset, ax=axs[2, 0])\n",
    "\n",
    "sns.boxplot(x=\"EngagementLevel\", y=\"CortisolLevel\", data=dataset, ax=axs[2, 1])\n",
    "\n",
    "sns.boxplot(x=\"EngagementLevel\", y=\"ActivityLevel\", data=dataset, ax=axs[2, 2])\n",
    "\n",
    "sns.boxplot(x=\"EngagementLevel\", y=\"AmbientNoiseLevel\", data=dataset, ax=axs[3, 0])\n",
    "\n",
    "sns.boxplot(x=\"EngagementLevel\", y=\"LightingLevel\", data=dataset, ax=axs[3, 1])\n",
    "\n",
    "plt.show()"
   ]
  },
  {
   "cell_type": "markdown",
   "id": "aefade86-67ff-4cbe-ba8d-040b459b5cb9",
   "metadata": {},
   "source": [
    "## Emotional State"
   ]
  },
  {
   "cell_type": "code",
   "execution_count": null,
   "id": "c320b042-c276-4456-b7b2-a35b6f079baf",
   "metadata": {},
   "outputs": [],
   "source": [
    "sns.countplot(dataset, x = \"EmotionalState\")\n",
    "plt.title(\"Count of levels of categotical variable\")"
   ]
  },
  {
   "cell_type": "code",
   "execution_count": null,
   "id": "8ace0e5e-370a-4a1b-8a68-06da9766e54d",
   "metadata": {},
   "outputs": [],
   "source": [
    "pd.crosstab(index = dataset[\"EmotionalState\"], columns = \"count\")"
   ]
  },
  {
   "cell_type": "code",
   "execution_count": null,
   "id": "00d33fe4-04e9-410d-9313-a5c37a03059c",
   "metadata": {},
   "outputs": [],
   "source": [
    "fig, axs = plt.subplots(4, 3, figsize  = (20, 24))\n",
    "\n",
    "sns.boxplot(x=\"EmotionalState\", y=\"HeartRate\", data=dataset, ax=axs[0, 0])\n",
    "\n",
    "sns.boxplot(x=\"EmotionalState\", y=\"SkinConductance\", data=dataset, ax=axs[0, 1])\n",
    "\n",
    "sns.boxplot(x=\"EmotionalState\", y=\"EEG\", data=dataset, ax=axs[0, 2])\n",
    "\n",
    "sns.boxplot(x=\"EmotionalState\", y=\"Temperature\", data=dataset, ax=axs[1, 0])\n",
    "\n",
    "sns.boxplot(x=\"EmotionalState\", y=\"PupilDiameter\", data=dataset, ax=axs[1, 1])\n",
    "\n",
    "sns.boxplot(x=\"EmotionalState\", y=\"SmileIntensity\", data=dataset, ax=axs[1, 2])\n",
    "\n",
    "sns.boxplot(x=\"EmotionalState\", y=\"FrownIntensity\", data=dataset, ax=axs[2, 0])\n",
    "\n",
    "sns.boxplot(x=\"EmotionalState\", y=\"CortisolLevel\", data=dataset, ax=axs[2, 1])\n",
    "\n",
    "sns.boxplot(x=\"EmotionalState\", y=\"ActivityLevel\", data=dataset, ax=axs[2, 2])\n",
    "\n",
    "sns.boxplot(x=\"EmotionalState\", y=\"AmbientNoiseLevel\", data=dataset, ax=axs[3, 0])\n",
    "\n",
    "sns.boxplot(x=\"EmotionalState\", y=\"LightingLevel\", data=dataset, ax=axs[3, 1])\n",
    "\n",
    "plt.show()"
   ]
  },
  {
   "cell_type": "markdown",
   "id": "75114770-2b2b-4c75-a079-6965705c1b9c",
   "metadata": {},
   "source": [
    "## Cognitive State"
   ]
  },
  {
   "cell_type": "code",
   "execution_count": null,
   "id": "17c8a7a5-4520-4d55-a314-7997fb842abf",
   "metadata": {},
   "outputs": [],
   "source": [
    "sns.countplot(dataset, x = \"CognitiveState\")\n",
    "plt.title(\"Count of levels of categotical variable\")"
   ]
  },
  {
   "cell_type": "code",
   "execution_count": null,
   "id": "2233d071-8515-4819-abc1-e51da93c6d08",
   "metadata": {},
   "outputs": [],
   "source": [
    "pd.crosstab(index = dataset[\"CognitiveState\"], columns = \"count\")"
   ]
  },
  {
   "cell_type": "code",
   "execution_count": null,
   "id": "b4329d45-58be-4d35-8a7d-acbfa3d84f3f",
   "metadata": {},
   "outputs": [],
   "source": [
    "fig, axs = plt.subplots(4, 3, figsize  = (20, 24))\n",
    "\n",
    "sns.boxplot(x=\"CognitiveState\", y=\"HeartRate\", data=dataset, ax=axs[0, 0])\n",
    "\n",
    "sns.boxplot(x=\"CognitiveState\", y=\"SkinConductance\", data=dataset, ax=axs[0, 1])\n",
    "\n",
    "sns.boxplot(x=\"CognitiveState\", y=\"EEG\", data=dataset, ax=axs[0, 2])\n",
    "\n",
    "sns.boxplot(x=\"CognitiveState\", y=\"Temperature\", data=dataset, ax=axs[1, 0])\n",
    "\n",
    "sns.boxplot(x=\"CognitiveState\", y=\"PupilDiameter\", data=dataset, ax=axs[1, 1])\n",
    "\n",
    "sns.boxplot(x=\"CognitiveState\", y=\"SmileIntensity\", data=dataset, ax=axs[1, 2])\n",
    "\n",
    "sns.boxplot(x=\"CognitiveState\", y=\"FrownIntensity\", data=dataset, ax=axs[2, 0])\n",
    "\n",
    "sns.boxplot(x=\"CognitiveState\", y=\"CortisolLevel\", data=dataset, ax=axs[2, 1])\n",
    "\n",
    "sns.boxplot(x=\"CognitiveState\", y=\"ActivityLevel\", data=dataset, ax=axs[2, 2])\n",
    "\n",
    "sns.boxplot(x=\"CognitiveState\", y=\"AmbientNoiseLevel\", data=dataset, ax=axs[3, 0])\n",
    "\n",
    "sns.boxplot(x=\"CognitiveState\", y=\"LightingLevel\", data=dataset, ax=axs[3, 1])\n",
    "\n",
    "plt.show()"
   ]
  },
  {
   "cell_type": "markdown",
   "id": "1c5f181f-c690-4cfc-b120-967ca5ebd303",
   "metadata": {},
   "source": [
    "# Modeling Engagement Level"
   ]
  },
  {
   "cell_type": "code",
   "execution_count": null,
   "id": "e4872c9f-68e8-4f22-a76f-8910c9cb2b86",
   "metadata": {},
   "outputs": [],
   "source": [
    "from sklearn.neighbors import KNeighborsClassifier\n",
    "from sklearn.svm import SVC\n",
    "from sklearn.ensemble import RandomForestClassifier, GradientBoostingClassifier\n",
    "\n",
    "from sklearn.model_selection import train_test_split, GridSearchCV, LeaveOneOut\n",
    "from sklearn.metrics import f1_score, precision_score, recall_score, accuracy_score\n",
    "\n",
    "X = dataset.drop([\"EmotionalState\", \"CognitiveState\", \"EngagementLevel\"], axis = 1)\n",
    "y = dataset[\"EngagementLevel\"]\n",
    "\n",
    "X_train, X_test, y_train, y_test = train_test_split(X, y, random_state = 777)"
   ]
  },
  {
   "cell_type": "markdown",
   "id": "9b0b13ed-58c5-410a-9766-131374041a96",
   "metadata": {
    "jp-MarkdownHeadingCollapsed": true
   },
   "source": [
    "## K Neighbors"
   ]
  },
  {
   "cell_type": "code",
   "execution_count": null,
   "id": "260d9855-58d7-4474-bf26-da5ea4537177",
   "metadata": {},
   "outputs": [],
   "source": [
    "kneighbors_params = {\n",
    "    \"n_neighbors\": [1, 2, 3, 4, 5, 6, 7, 8, 9, 10]   \n",
    "}\n",
    "kneighbors_grid = GridSearchCV(KNeighborsClassifier(), param_grid = kneighbors_params, scoring = \"f1_macro\", cv = LeaveOneOut())\n",
    "kneighbors_grid.fit(X_train, y_train)"
   ]
  },
  {
   "cell_type": "code",
   "execution_count": null,
   "id": "7f709bd4-853d-4c9e-bd67-fca3d55bcbe7",
   "metadata": {},
   "outputs": [],
   "source": [
    "kneighbors_grid.best_params_"
   ]
  },
  {
   "cell_type": "code",
   "execution_count": null,
   "id": "502524e8-ad72-4d72-909b-fa7a86d7ed00",
   "metadata": {},
   "outputs": [],
   "source": [
    "kneighbors_grid.best_score_"
   ]
  },
  {
   "cell_type": "code",
   "execution_count": null,
   "id": "885eaec7-460d-4d10-86a9-c3d85f78735a",
   "metadata": {},
   "outputs": [],
   "source": [
    "kneighbors = kneighbors_grid.best_estimator_"
   ]
  },
  {
   "cell_type": "markdown",
   "id": "7b3d34d6-475e-458d-ac50-4379b7be63bc",
   "metadata": {
    "jp-MarkdownHeadingCollapsed": true
   },
   "source": [
    "## SVM"
   ]
  },
  {
   "cell_type": "code",
   "execution_count": null,
   "id": "2010d10a-bf36-411f-a9c4-e7c8130e3f87",
   "metadata": {},
   "outputs": [],
   "source": [
    "svm_params = {\n",
    "    \"kernel\": [\"linear\", \"rbf\", \"poly\"],\n",
    "    \"degree\": [3, 4, 5]\n",
    "}\n",
    "\n",
    "svm_grid = GridSearchCV(SVC(), param_grid = svm_params, scoring = \"f1_macro\")\n",
    "svm_grid.fit(X_train, y_train)"
   ]
  },
  {
   "cell_type": "code",
   "execution_count": null,
   "id": "ed4022b8-65ba-444e-82c8-f25523242f40",
   "metadata": {},
   "outputs": [],
   "source": [
    "svm_grid.best_params_"
   ]
  },
  {
   "cell_type": "code",
   "execution_count": null,
   "id": "587460a7-52da-40c6-88a7-fe9be2a8f63a",
   "metadata": {},
   "outputs": [],
   "source": [
    "svm_grid.best_score_"
   ]
  },
  {
   "cell_type": "code",
   "execution_count": null,
   "id": "91606a2c-c25f-4d40-afa2-c3e533827f9c",
   "metadata": {},
   "outputs": [],
   "source": [
    "svm = svm_grid.best_estimator_"
   ]
  },
  {
   "cell_type": "markdown",
   "id": "b34677ff-7a92-43c8-a964-0bc4d29bb644",
   "metadata": {
    "jp-MarkdownHeadingCollapsed": true
   },
   "source": [
    "## Random Forest"
   ]
  },
  {
   "cell_type": "code",
   "execution_count": null,
   "id": "340fc475-fb84-41a4-a964-23d3fe2649ac",
   "metadata": {},
   "outputs": [],
   "source": [
    "forest_params = {\n",
    "    \"n_estimators\": [25, 50, 100, 150],\n",
    "    \"max_depth\": [None, 6, 8, 10],\n",
    "    \"min_impurity_decrease\": [0, 0.1, 0.2, 0.3],\n",
    "    \"max_leaf_nodes\": [None, 5, 10, 20]\n",
    "}\n",
    "\n",
    "forest_grid = GridSearchCV(RandomForestClassifier(min_samples_leaf = 3, random_state = 1234), param_grid = forest_params, scoring = \"f1_macro\")\n",
    "forest_grid.fit(X_train, y_train)"
   ]
  },
  {
   "cell_type": "code",
   "execution_count": null,
   "id": "235c6967-c119-4720-9b89-7027c186b593",
   "metadata": {},
   "outputs": [],
   "source": [
    "forest_grid.best_params_"
   ]
  },
  {
   "cell_type": "code",
   "execution_count": null,
   "id": "ee3b781a-86ef-4232-9e12-210ab02fb849",
   "metadata": {},
   "outputs": [],
   "source": [
    "forest_grid.best_score_"
   ]
  },
  {
   "cell_type": "code",
   "execution_count": null,
   "id": "ae70adab-c3bb-4c8e-968b-631a0d5264f3",
   "metadata": {},
   "outputs": [],
   "source": [
    "random_forest = forest_grid.best_estimator_"
   ]
  },
  {
   "cell_type": "markdown",
   "id": "09250df4-4dac-4d2f-8269-9cf7e32625b3",
   "metadata": {},
   "source": [
    "## GradientBoost"
   ]
  },
  {
   "cell_type": "code",
   "execution_count": null,
   "id": "7c8c553c-3cf2-4910-9e0c-a07640d5237e",
   "metadata": {},
   "outputs": [],
   "source": [
    "boosting_params = {\n",
    "    \"n_estimators\": [25, 50, 100, 150],\n",
    "    \"max_depth\": [None, 6, 8, 10],\n",
    "    \"min_impurity_decrease\": [0, 0.1, 0.2, 0.3],\n",
    "    \"max_leaf_nodes\": [None, 5, 10, 20],\n",
    "    \"max_features\": [None, \"sqrt\"]\n",
    "}\n",
    "\n",
    "boosting_grid = GridSearchCV(GradientBoostingClassifier(min_samples_leaf = 3, random_state = 1234), param_grid = boosting_params, scoring = \"f1_macro\")\n",
    "boosting_grid.fit(X_train, y_train)"
   ]
  },
  {
   "cell_type": "code",
   "execution_count": null,
   "id": "534baac4-598c-4057-82e4-31593c1e5efd",
   "metadata": {},
   "outputs": [],
   "source": [
    "boosting_grid.best_params_"
   ]
  },
  {
   "cell_type": "code",
   "execution_count": null,
   "id": "7894f49a-d5c7-4549-b4b2-05e73ea213f9",
   "metadata": {},
   "outputs": [],
   "source": [
    "boosting_grid.best_score_"
   ]
  },
  {
   "cell_type": "code",
   "execution_count": null,
   "id": "b1381e6c-c1b2-46b7-a3da-9ea366e1e4f1",
   "metadata": {},
   "outputs": [],
   "source": [
    "gradient_boosting = boosting_grid.best_estimator_"
   ]
  },
  {
   "cell_type": "markdown",
   "id": "b8d79784-1c3a-4955-9168-567d7f3843f3",
   "metadata": {
    "jp-MarkdownHeadingCollapsed": true
   },
   "source": [
    "## Model Selection"
   ]
  },
  {
   "cell_type": "code",
   "execution_count": null,
   "id": "66b3384b-15e1-4507-807b-e7090c525157",
   "metadata": {},
   "outputs": [],
   "source": [
    "kneighbors_f1_score = f1_score(y_test, kneighbors.predict(X_test), average = \"macro\")\n",
    "svm_f1_score = f1_score(y_test, svm.predict(X_test), average = \"macro\")\n",
    "random_f1_forest_score = f1_score(y_test, random_forest.predict(X_test), average = \"macro\")\n",
    "gradient_f1_boosting_score = f1_score(y_test, gradient_boosting.predict(X_test), average = \"macro\")"
   ]
  },
  {
   "cell_type": "code",
   "execution_count": null,
   "id": "796b537e-63f7-40d4-8b25-7077d564c723",
   "metadata": {},
   "outputs": [],
   "source": [
    "kneighbors_precision_score = precision_score(y_test, kneighbors.predict(X_test), average = \"macro\")\n",
    "svm_presicion_score = precision_score(y_test, svm.predict(X_test), average = \"macro\")\n",
    "random_precision_forest_score = precision_score(y_test, random_forest.predict(X_test), average = \"macro\")\n",
    "gradient_precision_boosting_score = precision_score(y_test, gradient_boosting.predict(X_test), average = \"macro\")"
   ]
  },
  {
   "cell_type": "code",
   "execution_count": null,
   "id": "df4c3c58-77d6-4502-b68c-4e9dc324d8c6",
   "metadata": {},
   "outputs": [],
   "source": [
    "kneighbors_recall_score = recall_score(y_test, kneighbors.predict(X_test), average = \"macro\")\n",
    "svm_recall_score = recall_score(y_test, svm.predict(X_test), average = \"macro\")\n",
    "random_recall_forest_score = recall_score(y_test, random_forest.predict(X_test), average = \"macro\")\n",
    "gradient_recall_boosting_score = recall_score(y_test, gradient_boosting.predict(X_test), average = \"macro\")"
   ]
  },
  {
   "cell_type": "code",
   "execution_count": null,
   "id": "66f5c445-45ca-41a0-82d2-becdc1a55749",
   "metadata": {},
   "outputs": [],
   "source": [
    "kneighbors_accuracy_score = accuracy_score(y_test, kneighbors.predict(X_test))\n",
    "svm_accuracy_score = accuracy_score(y_test, svm.predict(X_test))\n",
    "random_accuracy_forest_score = accuracy_score(y_test, random_forest.predict(X_test))\n",
    "gradient_accuracy_boosting_score = accuracy_score(y_test, gradient_boosting.predict(X_test))"
   ]
  },
  {
   "cell_type": "code",
   "execution_count": null,
   "id": "9beead1b-7772-4843-afff-0f1f09f77c4c",
   "metadata": {},
   "outputs": [],
   "source": [
    "s = {\n",
    "    \"Accuracy\": [kneighbors_accuracy_score, svm_accuracy_score, random_accuracy_forest_score, gradient_accuracy_boosting_score],\n",
    "    \"Precision\": [kneighbors_precision_score, svm_presicion_score, random_precision_forest_score, gradient_precision_boosting_score],\n",
    "    \"Recall\": [kneighbors_recall_score, svm_recall_score, random_recall_forest_score, gradient_recall_boosting_score],\n",
    "    \"F1\": [kneighbors_f1_score, svm_f1_score, random_f1_forest_score, gradient_f1_boosting_score]\n",
    "}\n",
    "scores = pd.DataFrame(data = s, index = [\"K nearest neighbors\", \"SVM\", \"Random Forest\", \"GradientBoost\"])\n",
    "scores"
   ]
  },
  {
   "cell_type": "markdown",
   "id": "c4b22a79-2f1a-43eb-ac2f-35f0822c1375",
   "metadata": {},
   "source": [
    "# Modeling Emotional State"
   ]
  },
  {
   "cell_type": "code",
   "execution_count": null,
   "id": "693f678a-dfd6-4ece-974f-f04ebec942c7",
   "metadata": {},
   "outputs": [],
   "source": [
    "X = dataset.drop([\"EmotionalState\", \"CognitiveState\", \"EngagementLevel\"], axis = 1)\n",
    "y = dataset[\"EmotionalState\"]\n",
    "\n",
    "X_train, X_test, y_train, y_test = train_test_split(X, y, random_state = 777)"
   ]
  },
  {
   "cell_type": "markdown",
   "id": "12d0c68f-adb4-4fac-9086-347fe30edce4",
   "metadata": {},
   "source": [
    "## Random Forest"
   ]
  },
  {
   "cell_type": "code",
   "execution_count": null,
   "id": "bb09108e-82d2-4ba5-ad1c-9c9d3268cf23",
   "metadata": {},
   "outputs": [],
   "source": [
    "forest_params = {\n",
    "    \"n_estimators\": [25, 50, 100, 150],\n",
    "    \"max_depth\": [None, 6, 8, 10],\n",
    "    \"min_impurity_decrease\": [0, 0.1, 0.2, 0.3],\n",
    "    \"max_leaf_nodes\": [None, 5, 10, 20]\n",
    "}\n",
    "\n",
    "forest_grid = GridSearchCV(RandomForestClassifier(min_samples_leaf = 3, random_state = 1234), param_grid = forest_params, scoring = \"f1_macro\")\n",
    "forest_grid.fit(X_train, y_train)"
   ]
  },
  {
   "cell_type": "code",
   "execution_count": null,
   "id": "161be863-3941-4bad-85ab-3090494184f3",
   "metadata": {},
   "outputs": [],
   "source": [
    "forest_grid.best_params_"
   ]
  },
  {
   "cell_type": "code",
   "execution_count": null,
   "id": "f9a71ec1-8516-4290-8157-4546f7f1bd99",
   "metadata": {},
   "outputs": [],
   "source": [
    "forest_grid.best_score_"
   ]
  },
  {
   "cell_type": "code",
   "execution_count": null,
   "id": "db0f4e65-83f6-420a-9799-89c8b2413eb0",
   "metadata": {},
   "outputs": [],
   "source": [
    "random_forest = forest_grid.best_estimator_"
   ]
  },
  {
   "cell_type": "markdown",
   "id": "a58f4aa6-7a82-4137-82f1-ce029bbc27f4",
   "metadata": {},
   "source": [
    "## GradientBoost"
   ]
  },
  {
   "cell_type": "code",
   "execution_count": null,
   "id": "0cf8fdde-9e4e-47d6-9bda-e291bfbdcf6c",
   "metadata": {},
   "outputs": [],
   "source": [
    "boosting_params = {\n",
    "    \"n_estimators\": [25, 50, 100, 150],\n",
    "    \"max_depth\": [None, 6, 8, 10],\n",
    "    \"min_impurity_decrease\": [0, 0.1, 0.2, 0.3],\n",
    "    \"max_leaf_nodes\": [None, 5, 10, 20],\n",
    "    \"max_features\": [None, \"sqrt\"]\n",
    "}\n",
    "\n",
    "boosting_grid = GridSearchCV(GradientBoostingClassifier(min_samples_leaf = 3, random_state = 1234), param_grid = boosting_params, scoring = \"f1_macro\")\n",
    "boosting_grid.fit(X_train, y_train)"
   ]
  },
  {
   "cell_type": "code",
   "execution_count": null,
   "id": "302f2084-f1b7-4a05-b150-ad9c0932cc14",
   "metadata": {},
   "outputs": [],
   "source": [
    "boosting_grid.best_params_"
   ]
  },
  {
   "cell_type": "code",
   "execution_count": null,
   "id": "a98a4cba-237a-4a91-8c88-4aa26c09c88f",
   "metadata": {},
   "outputs": [],
   "source": [
    "boosting_grid.best_score_"
   ]
  },
  {
   "cell_type": "code",
   "execution_count": null,
   "id": "15adfd77-4ec7-4428-b7db-a4ca8002a140",
   "metadata": {},
   "outputs": [],
   "source": [
    "gradient_boosting = boosting_grid.best_estimator_"
   ]
  },
  {
   "cell_type": "markdown",
   "id": "d2173e5b-696f-428c-bc93-5cf79e4fc2c7",
   "metadata": {},
   "source": [
    "## Model Selection"
   ]
  },
  {
   "cell_type": "code",
   "execution_count": null,
   "id": "9d5cb8fc-3421-4cd6-b0d5-3d61c4a76fd6",
   "metadata": {},
   "outputs": [],
   "source": [
    "random_f1_forest_score = f1_score(y_test, random_forest.predict(X_test), average = \"macro\")\n",
    "gradient_f1_boosting_score = f1_score(y_test, gradient_boosting.predict(X_test), average = \"macro\")"
   ]
  },
  {
   "cell_type": "code",
   "execution_count": null,
   "id": "00b11306-6762-4abb-b71e-5a4e54fc20fc",
   "metadata": {},
   "outputs": [],
   "source": [
    "random_precision_forest_score = precision_score(y_test, random_forest.predict(X_test), average = \"macro\")\n",
    "gradient_precision_boosting_score = precision_score(y_test, gradient_boosting.predict(X_test), average = \"macro\")"
   ]
  },
  {
   "cell_type": "code",
   "execution_count": null,
   "id": "390f83b1-8654-4e04-aa9d-82c357880ec4",
   "metadata": {},
   "outputs": [],
   "source": [
    "random_recall_forest_score = recall_score(y_test, random_forest.predict(X_test), average = \"macro\")\n",
    "gradient_recall_boosting_score = recall_score(y_test, gradient_boosting.predict(X_test), average = \"macro\")"
   ]
  },
  {
   "cell_type": "code",
   "execution_count": null,
   "id": "dc926ee7-3ebd-4c94-bbad-6d50e45b4e7f",
   "metadata": {},
   "outputs": [],
   "source": [
    "random_accuracy_forest_score = accuracy_score(y_test, random_forest.predict(X_test))\n",
    "gradient_accuracy_boosting_score = accuracy_score(y_test, gradient_boosting.predict(X_test))"
   ]
  },
  {
   "cell_type": "code",
   "execution_count": null,
   "id": "c152501c-9462-43d8-bcf4-7bc53032eeb0",
   "metadata": {},
   "outputs": [],
   "source": [
    "s = {\n",
    "    \"Accuracy\": [random_accuracy_forest_score, gradient_accuracy_boosting_score],\n",
    "    \"Precision\": [random_precision_forest_score, gradient_precision_boosting_score],\n",
    "    \"Recall\": [random_recall_forest_score, gradient_recall_boosting_score],\n",
    "    \"F1\": [random_f1_forest_score, gradient_f1_boosting_score]\n",
    "}\n",
    "scores = pd.DataFrame(data = s, index = [\"Random Forest\", \"GradientBoost\"])\n",
    "scores"
   ]
  },
  {
   "cell_type": "markdown",
   "id": "17a75e95-7648-44ed-8fa0-ba62b97ca3d6",
   "metadata": {
    "jp-MarkdownHeadingCollapsed": true
   },
   "source": [
    "# Modeling Cognitive State"
   ]
  },
  {
   "cell_type": "code",
   "execution_count": null,
   "id": "0f11d08a-18bb-42bc-8168-1dfd337ed2d1",
   "metadata": {},
   "outputs": [],
   "source": [
    "X = dataset.drop([\"EmotionalState\", \"CognitiveState\", \"EngagementLevel\"], axis = 1)\n",
    "y = dataset[\"CognitiveState\"]\n",
    "\n",
    "X_train, X_test, y_train, y_test = train_test_split(X, y, random_state = 777)"
   ]
  },
  {
   "cell_type": "markdown",
   "id": "11e4cf47-04ae-4882-9493-0e84812bc264",
   "metadata": {},
   "source": [
    "## K Neighbors"
   ]
  },
  {
   "cell_type": "code",
   "execution_count": null,
   "id": "da3fa989-4f3f-49f0-823e-610e5567f58c",
   "metadata": {},
   "outputs": [],
   "source": [
    "kneighbors_params = {\n",
    "    \"n_neighbors\": [1, 2, 3, 4, 5, 6, 7, 8, 9, 10]   \n",
    "}\n",
    "kneighbors_grid = GridSearchCV(KNeighborsClassifier(), param_grid = kneighbors_params, scoring = \"f1_macro\", cv = LeaveOneOut())\n",
    "kneighbors_grid.fit(X_train, y_train)"
   ]
  },
  {
   "cell_type": "code",
   "execution_count": null,
   "id": "32b0d6fb-2eca-47fe-ae6d-f3dc75bb5c31",
   "metadata": {},
   "outputs": [],
   "source": [
    "kneighbors_grid.best_params_"
   ]
  },
  {
   "cell_type": "code",
   "execution_count": null,
   "id": "41dbe946-6422-4647-9daf-7a8986357b0f",
   "metadata": {},
   "outputs": [],
   "source": [
    "kneighbors_grid.best_score_"
   ]
  },
  {
   "cell_type": "code",
   "execution_count": null,
   "id": "a81b293a-d3c9-4b73-b79a-3753fab24a8e",
   "metadata": {},
   "outputs": [],
   "source": [
    "kneighbors = kneighbors_grid.best_estimator_"
   ]
  },
  {
   "cell_type": "markdown",
   "id": "2c5ca2b1-1531-41df-83b3-e375449e9f4f",
   "metadata": {},
   "source": [
    "## SVM"
   ]
  },
  {
   "cell_type": "code",
   "execution_count": null,
   "id": "181af0b4-3eea-4b3e-9c95-ba220fbb631c",
   "metadata": {},
   "outputs": [],
   "source": [
    "svm_params = {\n",
    "    \"kernel\": [\"linear\", \"rbf\", \"poly\"],\n",
    "    \"degree\": [3, 4, 5]\n",
    "}\n",
    "\n",
    "svm_grid = GridSearchCV(SVC(), param_grid = svm_params, scoring = \"f1_macro\")\n",
    "svm_grid.fit(X_train, y_train)"
   ]
  },
  {
   "cell_type": "code",
   "execution_count": null,
   "id": "c279f443-5eee-4ee9-b45d-c37c7303f3bb",
   "metadata": {},
   "outputs": [],
   "source": [
    "svm_grid.best_params_"
   ]
  },
  {
   "cell_type": "code",
   "execution_count": null,
   "id": "98490c7e-4ef7-46c3-a64e-f2efb457a013",
   "metadata": {},
   "outputs": [],
   "source": [
    "svm_grid.best_score_"
   ]
  },
  {
   "cell_type": "code",
   "execution_count": null,
   "id": "6ed18ed6-87a8-4517-af5b-2287c6b36485",
   "metadata": {},
   "outputs": [],
   "source": [
    "svm = svm_grid.best_estimator_"
   ]
  },
  {
   "cell_type": "markdown",
   "id": "a80ca281-fe16-4075-a2a5-b92a4843c658",
   "metadata": {},
   "source": [
    "## Random Forest"
   ]
  },
  {
   "cell_type": "code",
   "execution_count": null,
   "id": "400895b8-628e-45e7-a713-6b121b669fc6",
   "metadata": {},
   "outputs": [],
   "source": [
    "forest_params = {\n",
    "    \"n_estimators\": [25, 50, 100, 150],\n",
    "    \"max_depth\": [None, 6, 8, 10],\n",
    "    \"min_impurity_decrease\": [0, 0.1, 0.2, 0.3],\n",
    "    \"max_leaf_nodes\": [None, 5, 10, 20]\n",
    "}\n",
    "\n",
    "forest_grid = GridSearchCV(RandomForestClassifier(min_samples_leaf = 3, random_state = 1234), param_grid = forest_params, scoring = \"f1_macro\")\n",
    "forest_grid.fit(X_train, y_train)"
   ]
  },
  {
   "cell_type": "code",
   "execution_count": null,
   "id": "970b4bf9-869d-4f56-92a7-871fb35d0f45",
   "metadata": {},
   "outputs": [],
   "source": [
    "forest_grid.best_params_"
   ]
  },
  {
   "cell_type": "code",
   "execution_count": null,
   "id": "9731b0f0-dbf2-4a90-9e70-03d90934e8fd",
   "metadata": {},
   "outputs": [],
   "source": [
    "forest_grid.best_score_"
   ]
  },
  {
   "cell_type": "code",
   "execution_count": null,
   "id": "2d3ebc06-8be6-4b58-b897-147d76ee27c7",
   "metadata": {},
   "outputs": [],
   "source": [
    "random_forest = forest_grid.best_estimator_"
   ]
  },
  {
   "cell_type": "markdown",
   "id": "4afd0ead-7207-4e7f-94ce-142eb1363261",
   "metadata": {},
   "source": [
    "## GradientBoost"
   ]
  },
  {
   "cell_type": "code",
   "execution_count": null,
   "id": "e93ebf11-5511-44fc-8e70-ce98d6c53b61",
   "metadata": {},
   "outputs": [],
   "source": [
    "boosting_params = {\n",
    "    \"n_estimators\": [25, 50, 100, 150],\n",
    "    \"max_depth\": [None, 6, 8, 10],\n",
    "    \"min_impurity_decrease\": [0, 0.1, 0.2, 0.3],\n",
    "    \"max_leaf_nodes\": [None, 5, 10, 20],\n",
    "    \"max_features\": [None, \"sqrt\"]\n",
    "}\n",
    "\n",
    "boosting_grid = GridSearchCV(GradientBoostingClassifier(min_samples_leaf = 3, random_state = 1234), param_grid = boosting_params, scoring = \"f1_macro\")\n",
    "boosting_grid.fit(X_train, y_train)"
   ]
  },
  {
   "cell_type": "code",
   "execution_count": null,
   "id": "dea75965-cebf-435c-87c2-5b2781ced05a",
   "metadata": {},
   "outputs": [],
   "source": [
    "boosting_grid.best_params_"
   ]
  },
  {
   "cell_type": "code",
   "execution_count": null,
   "id": "88629bdb-d019-4653-ade8-2c0fc124741d",
   "metadata": {},
   "outputs": [],
   "source": [
    "boosting_grid.best_score_"
   ]
  },
  {
   "cell_type": "code",
   "execution_count": null,
   "id": "b65a0ffb-c8df-47d2-8838-7829ae3edcee",
   "metadata": {},
   "outputs": [],
   "source": [
    "gradient_boosting = boosting_grid.best_estimator_"
   ]
  },
  {
   "cell_type": "markdown",
   "id": "e85f8649-4779-466a-b1ef-12ebc5d3a822",
   "metadata": {},
   "source": [
    "## Model Selection"
   ]
  },
  {
   "cell_type": "code",
   "execution_count": null,
   "id": "eb0264a8-7fd6-4a0f-80a4-096546b07f72",
   "metadata": {},
   "outputs": [],
   "source": [
    "kneighbors_f1_score = f1_score(y_test, kneighbors.predict(X_test), average = \"macro\")\n",
    "svm_f1_score = f1_score(y_test, svm.predict(X_test), average = \"macro\")\n",
    "random_f1_forest_score = f1_score(y_test, random_forest.predict(X_test), average = \"macro\")\n",
    "gradient_f1_boosting_score = f1_score(y_test, gradient_boosting.predict(X_test), average = \"macro\")"
   ]
  },
  {
   "cell_type": "code",
   "execution_count": null,
   "id": "7059320f-3343-4f9f-b918-b79491cf6f44",
   "metadata": {},
   "outputs": [],
   "source": [
    "kneighbors_precision_score = precision_score(y_test, kneighbors.predict(X_test), average = \"macro\")\n",
    "svm_presicion_score = precision_score(y_test, svm.predict(X_test), average = \"macro\")\n",
    "random_precision_forest_score = precision_score(y_test, random_forest.predict(X_test), average = \"macro\")\n",
    "gradient_precision_boosting_score = precision_score(y_test, gradient_boosting.predict(X_test), average = \"macro\")"
   ]
  },
  {
   "cell_type": "code",
   "execution_count": null,
   "id": "044d01ff-9f8d-41b9-acdc-fe1e4a2d5d20",
   "metadata": {},
   "outputs": [],
   "source": [
    "kneighbors_recall_score = recall_score(y_test, kneighbors.predict(X_test), average = \"macro\")\n",
    "svm_recall_score = recall_score(y_test, svm.predict(X_test), average = \"macro\")\n",
    "random_recall_forest_score = recall_score(y_test, random_forest.predict(X_test), average = \"macro\")\n",
    "gradient_recall_boosting_score = recall_score(y_test, gradient_boosting.predict(X_test), average = \"macro\")"
   ]
  },
  {
   "cell_type": "code",
   "execution_count": null,
   "id": "d9fb97b2-a85e-41d6-8a39-7886b5de4f8d",
   "metadata": {},
   "outputs": [],
   "source": [
    "kneighbors_accuracy_score = accuracy_score(y_test, kneighbors.predict(X_test))\n",
    "svm_accuracy_score = accuracy_score(y_test, svm.predict(X_test))\n",
    "random_accuracy_forest_score = accuracy_score(y_test, random_forest.predict(X_test))\n",
    "gradient_accuracy_boosting_score = accuracy_score(y_test, gradient_boosting.predict(X_test))"
   ]
  },
  {
   "cell_type": "code",
   "execution_count": null,
   "id": "5967a20f-0bbe-4032-882a-82c9f4ffc762",
   "metadata": {},
   "outputs": [],
   "source": [
    "s = {\n",
    "    \"Accuracy\": [kneighbors_accuracy_score, svm_accuracy_score, random_accuracy_forest_score, gradient_accuracy_boosting_score],\n",
    "    \"Precision\": [kneighbors_precision_score, svm_presicion_score, random_precision_forest_score, gradient_precision_boosting_score],\n",
    "    \"Recall\": [kneighbors_recall_score, svm_recall_score, random_recall_forest_score, gradient_recall_boosting_score],\n",
    "    \"F1\": [kneighbors_f1_score, svm_f1_score, random_f1_forest_score, gradient_f1_boosting_score]\n",
    "}\n",
    "scores = pd.DataFrame(data = s, index = [\"K nearest neighbors\", \"SVM\", \"Random Forest\", \"GradientBoost\"])\n",
    "scores"
   ]
  },
  {
   "cell_type": "markdown",
   "id": "b75863b3-cf7a-4814-9cb8-5df44f45c977",
   "metadata": {},
   "source": [
    "From EDA we can also see that cognitive state is very random, so we can't model it. It is very probable that it doesn't have actual relationship."
   ]
  }
 ],
 "metadata": {
  "kernelspec": {
   "display_name": "Python 3 (ipykernel)",
   "language": "python",
   "name": "python3"
  },
  "language_info": {
   "codemirror_mode": {
    "name": "ipython",
    "version": 3
   },
   "file_extension": ".py",
   "mimetype": "text/x-python",
   "name": "python",
   "nbconvert_exporter": "python",
   "pygments_lexer": "ipython3",
   "version": "3.12.4"
  }
 },
 "nbformat": 4,
 "nbformat_minor": 5
}
