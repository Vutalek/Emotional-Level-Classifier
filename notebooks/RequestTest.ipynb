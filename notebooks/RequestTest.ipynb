{
 "cells": [
  {
   "cell_type": "markdown",
   "id": "7b6b92b8-571c-4912-b30e-ffda0fd3c9b4",
   "metadata": {},
   "source": [
    "# Testing API server"
   ]
  },
  {
   "cell_type": "code",
   "execution_count": 204,
   "id": "46052f8c-6da2-4576-9ad6-bf8be9afec3a",
   "metadata": {},
   "outputs": [],
   "source": [
    "import json\n",
    "import requests\n",
    "\n",
    "server_address = \"http://127.0.0.1:7070/predict\""
   ]
  },
  {
   "cell_type": "markdown",
   "id": "59cba111-d019-4c06-84fd-7e82fdceb1f3",
   "metadata": {},
   "source": [
    "## Building request"
   ]
  },
  {
   "cell_type": "code",
   "execution_count": 266,
   "id": "023cef02-4699-4ac3-a254-ca6318fa71dc",
   "metadata": {},
   "outputs": [
    {
     "data": {
      "text/plain": [
       "'{\"heartRate\": 60, \"skinConductance\": 3.4, \"eeg\": 3.5, \"temperature\": null, \"pupilDiameter\": null, \"smileIntensity\": null, \"frownIntensity\": null, \"cortisolLevel\": null, \"activityLevel\": 40, \"ambientNoiseLevel\": null, \"lightingLevel\": null}'"
      ]
     },
     "execution_count": 266,
     "metadata": {},
     "output_type": "execute_result"
    }
   ],
   "source": [
    "header = {\n",
    "    \"Content-Type\": \"application/json; charset=utf-8\",\n",
    "    \"Accept\": \"application/json\",\n",
    "    \"Auth\": \"1234\"\n",
    "}\n",
    "\n",
    "data = {\n",
    "    \"heartRate\": 60,\n",
    "    \"skinConductance\": 3.4,\n",
    "    \"eeg\": 3.5,\n",
    "    \"temperature\": None,\n",
    "    \"pupilDiameter\": None,\n",
    "    \"smileIntensity\": None,\n",
    "    \"frownIntensity\": None,\n",
    "    \"cortisolLevel\": None,\n",
    "    \"activityLevel\": 40,\n",
    "    \"ambientNoiseLevel\": None,\n",
    "    \"lightingLevel\": None\n",
    "}\n",
    "send_data = json.dumps(data)\n",
    "\n",
    "send_data"
   ]
  },
  {
   "cell_type": "markdown",
   "id": "ef874560-fc87-4df7-adc1-4b00d8fecfba",
   "metadata": {},
   "source": [
    "## Sending request"
   ]
  },
  {
   "cell_type": "code",
   "execution_count": 271,
   "id": "0542c852-b49c-46d2-92e0-aa4dc6933082",
   "metadata": {},
   "outputs": [],
   "source": [
    "resp = requests.post(\n",
    "    server_address,\n",
    "    data = send_data,\n",
    "    headers = header\n",
    ")"
   ]
  },
  {
   "cell_type": "code",
   "execution_count": 273,
   "id": "5b01fc9a-90dc-4e08-b28e-63fc19f90d26",
   "metadata": {},
   "outputs": [
    {
     "data": {
      "text/plain": [
       "200"
      ]
     },
     "execution_count": 273,
     "metadata": {},
     "output_type": "execute_result"
    }
   ],
   "source": [
    "resp.status_code"
   ]
  },
  {
   "cell_type": "code",
   "execution_count": 275,
   "id": "112b27e0-1784-4b63-ac27-bb4191100406",
   "metadata": {},
   "outputs": [
    {
     "data": {
      "text/plain": [
       "{'emotionalState': \"['disengaged']\", 'engagementLevel': \"['Highly Engaged']\"}"
      ]
     },
     "execution_count": 275,
     "metadata": {},
     "output_type": "execute_result"
    }
   ],
   "source": [
    "resp.json()"
   ]
  },
  {
   "cell_type": "code",
   "execution_count": null,
   "id": "0dd2fe13-6eb5-4536-888a-4c6d1f9b29f9",
   "metadata": {},
   "outputs": [],
   "source": []
  }
 ],
 "metadata": {
  "kernelspec": {
   "display_name": "Python 3 (ipykernel)",
   "language": "python",
   "name": "python3"
  },
  "language_info": {
   "codemirror_mode": {
    "name": "ipython",
    "version": 3
   },
   "file_extension": ".py",
   "mimetype": "text/x-python",
   "name": "python",
   "nbconvert_exporter": "python",
   "pygments_lexer": "ipython3",
   "version": "3.12.4"
  }
 },
 "nbformat": 4,
 "nbformat_minor": 5
}
